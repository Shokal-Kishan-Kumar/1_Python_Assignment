{
 "cells": [
  {
   "cell_type": "code",
   "execution_count": 2,
   "id": "ed07806b-b170-49d7-a1c7-c1b650288258",
   "metadata": {},
   "outputs": [
    {
     "name": "stdout",
     "output_type": "stream",
     "text": [
      "For Loop Example : \n",
      "1\n",
      "2\n",
      "3\n",
      "4\n",
      "5\n",
      "6\n",
      "7\n",
      "8\n",
      "9\n",
      "10\n",
      "While Loop Example : \n",
      "1\n",
      "2\n",
      "4\n",
      "8\n",
      "16\n"
     ]
    }
   ],
   "source": [
    "#Q1. Explain with an example each when to use a for loop and a while loop.\n",
    "# solution \n",
    "# if we know total number of loop , we use for loop\n",
    "# example\n",
    "print(\"For Loop Example : \")\n",
    "for i in range(1,11):\n",
    "    print(i)\n",
    "# if we need to loop till a condition is True ,we use while loop\n",
    "# Example\n",
    "print(\"While Loop Example : \")\n",
    "a=1\n",
    "while(a<30):\n",
    "    print(a)\n",
    "    a=a*2\n"
   ]
  },
  {
   "cell_type": "code",
   "execution_count": 4,
   "id": "71257063-ebdc-489a-ac89-6a8e709ccc57",
   "metadata": {},
   "outputs": [
    {
     "name": "stdout",
     "output_type": "stream",
     "text": [
      "Sum And Product Using For Loop is : 55 3628800\n",
      "Sum And Product Using while Loop is : 55 3628800\n"
     ]
    }
   ],
   "source": [
    "# Q2. Write a python program to print the sum and product of the first 10 natural numbers using for and while loop.\n",
    "sm,pr=0,1\n",
    "for i in range(1,11):\n",
    "    sm+=i\n",
    "    pr*=i\n",
    "print(\"Sum And Product Using For Loop is :\",sm,pr)\n",
    "sm,pr=0,1\n",
    "i=1\n",
    "while(i<=10):\n",
    "    sm+=i\n",
    "    pr*=i\n",
    "    i+=1\n",
    "print(\"Sum And Product Using while Loop is :\",sm,pr)"
   ]
  },
  {
   "cell_type": "code",
   "execution_count": 5,
   "id": "2fd575d2-31ed-4a7f-9a4b-12414656ca98",
   "metadata": {},
   "outputs": [
    {
     "name": "stdin",
     "output_type": "stream",
     "text": [
      "Enter the Electricity Unit :  310\n"
     ]
    },
    {
     "name": "stdout",
     "output_type": "stream",
     "text": [
      "2250.0\n"
     ]
    }
   ],
   "source": [
    "\"\"\"Q3. Create a python program to compute the electricity bill for a household.\n",
    "The per-unit charges in rupees are as follows: For the first 100 units, the user will be charged Rs. 4.5 per\n",
    "unit, for the next 100 units, the user will be charged Rs. 6 per unit, and for the next 100 units, the user will\n",
    "be charged Rs. 10 per unit, After 300 units and above the user will be charged Rs. 20 per unit.\n",
    "You are required to take the units of electricity consumed in a month from the user as input.\n",
    "Your program must pass this test case: when the unit of electricity consumed by the user in a month is\n",
    "310, the total electricity bill should be 2250.\"\"\"\n",
    "\n",
    "n=int(input(\"Enter the Electricity Unit : \"))\n",
    "bill=0\n",
    "n=max(0,n)\n",
    "bill+=min(100,n)*4.5\n",
    "n=max(0,n-100)\n",
    "bill+=min(100,n)*6\n",
    "n=max(0,n-100)\n",
    "bill+=min(100,n)*10\n",
    "n=max(0,n-100)\n",
    "bill+=min(100,n)*20\n",
    "print(bill)\n"
   ]
  },
  {
   "cell_type": "code",
   "execution_count": 6,
   "id": "7b3b25ad-247b-42dd-9418-3c51d7394119",
   "metadata": {},
   "outputs": [
    {
     "name": "stdout",
     "output_type": "stream",
     "text": [
      "[64, 125, 512, 1000, 1728, 3375, 4096, 8000, 13824, 15625, 21952, 27000, 32768, 42875, 46656, 64000, 85184, 91125, 110592, 125000, 140608, 166375, 175616, 216000, 262144, 274625, 314432, 343000, 373248, 421875, 438976, 512000, 592704, 614125, 681472, 729000, 778688, 857375, 884736, 1000000]\n"
     ]
    }
   ],
   "source": [
    "\"\"\" \n",
    "Q4. Create a list of numbers from 1 to 100. Use for loop and while loop to calculate the cube of each\n",
    "number and if the cube of that number is divisible by 4 or 5 then append that number in a list and print\n",
    "that list.\n",
    "\"\"\"\n",
    "cube=[i**3 for i in range(1,101) if i%4==0 or i%5==0]\n",
    "print(cube)"
   ]
  },
  {
   "cell_type": "code",
   "execution_count": 7,
   "id": "b29bb572-fd37-4b38-9f74-8571a0f0df4f",
   "metadata": {},
   "outputs": [
    {
     "name": "stdout",
     "output_type": "stream",
     "text": [
      "11\n"
     ]
    }
   ],
   "source": [
    "\"\"\"\n",
    "Q5. Write a program to filter count vowels in the below-given string.\n",
    "string = \"I want to become a data scientist\"\n",
    "\"\"\"\n",
    "st=\"I want to become a data scientist\"\n",
    "vowels=\"aeiou\"\n",
    "count=0\n",
    "for ele in st:\n",
    "    if ele in vowels:\n",
    "        count+=1\n",
    "\n",
    "print(count)\n"
   ]
  },
  {
   "cell_type": "code",
   "execution_count": null,
   "id": "e7991888-e07a-4771-81f6-d6f21d1d7bd2",
   "metadata": {},
   "outputs": [],
   "source": []
  }
 ],
 "metadata": {
  "kernelspec": {
   "display_name": "Python 3 (ipykernel)",
   "language": "python",
   "name": "python3"
  },
  "language_info": {
   "codemirror_mode": {
    "name": "ipython",
    "version": 3
   },
   "file_extension": ".py",
   "mimetype": "text/x-python",
   "name": "python",
   "nbconvert_exporter": "python",
   "pygments_lexer": "ipython3",
   "version": "3.10.8"
  }
 },
 "nbformat": 4,
 "nbformat_minor": 5
}
